{
 "cells": [
  {
   "cell_type": "markdown",
   "metadata": {},
   "source": [
    "# Actividad 1 \n",
    "## - Jorge Emiliano Pomar A01709338"
   ]
  },
  {
   "cell_type": "markdown",
   "metadata": {},
   "source": [
    "* Un dado con 20x20 espacios habilitados\n",
    "* Número de agentes: (1,5,10)\n",
    "* Celdas sucias 80% al iniciar\n",
    " "
   ]
  },
  {
   "cell_type": "code",
   "execution_count": 207,
   "metadata": {},
   "outputs": [],
   "source": [
    "from mesa import Agent, Model\n",
    "from mesa.time import RandomActivation\n",
    "from mesa.space import MultiGrid\n",
    "from mesa.datacollection import DataCollector\n",
    "import random\n",
    "\n",
    "%matplotlib inline\n",
    "import matplotlib\n",
    "import matplotlib.pyplot as plt\n",
    "import matplotlib.animation as animation\n",
    "plt.rcParams[\"animation.html\"] = \"jshtml\"\n",
    "matplotlib.rcParams['animation.embed_limit'] = 2**128\n",
    "\n",
    "import numpy as np\n"
   ]
  },
  {
   "cell_type": "code",
   "execution_count": 208,
   "metadata": {},
   "outputs": [],
   "source": [
    "class Aspiradoras(Agent):\n",
    "    def __init__(self, unique_id, model):\n",
    "        super().__init__(unique_id, model)\n",
    "        \n",
    "    def step(self):\n",
    "        x, y = self.pos\n",
    "        if self.model.grid.is_cell_empty((x, y)):\n",
    "            self.model.grid.place_agent(None, (x, y), 0)\n",
    "        else:\n",
    "            pasos_posibles = self.model.grid.get_neighborhood(self.pos, moore=True, include_center=False)\n",
    "            nueva_posicion = random.choice(pasos_posibles)\n",
    "            self.model.grid.move_agent(self, nueva_posicion)"
   ]
  },
  {
   "cell_type": "code",
   "execution_count": 209,
   "metadata": {},
   "outputs": [],
   "source": [
    "def get_particles(model):\n",
    "    result = []\n",
    "    for agent in model.schedule.agents:\n",
    "        result.append(agent.pos)\n",
    "    return np.asarray(result)"
   ]
  },
  {
   "cell_type": "code",
   "execution_count": 210,
   "metadata": {},
   "outputs": [],
   "source": [
    "class OficinaModel(Model):\n",
    "    def __init__(self, X, Y, num_agents, porc_celdas_sucias, max_tiempo, paso1, paso2, paso3):\n",
    "        super().__init__()\n",
    "        self.num_agents = num_agents \n",
    "        self.grid = MultiGrid(X, Y, False)\n",
    "        self.schedule = RandomActivation(self)\n",
    "        self.running = True\n",
    "        self.max_tiempo = max_tiempo\n",
    "        self.tiempo = 0\n",
    "        self.paso1 = paso1\n",
    "        self.paso2 = paso2\n",
    "        self.paso3 = paso3\n",
    "        self.porcentajes_limpio = []\n",
    "        self.datacollector = DataCollector(\n",
    "            model_reporters={\"Particles\":get_particles}\n",
    "        )\n",
    "        \n",
    "        for i in range(num_agents):\n",
    "            a = Aspiradoras(i, self)\n",
    "            x = random.randrange(self.grid.width)\n",
    "            y = random.randrange(self.grid.height)\n",
    "            self.schedule.add(a)\n",
    "            self.grid.place_agent(a, (x, y))\n",
    "            \n",
    "    def step(self):\n",
    "        self.schedule.step()\n",
    "        self.tiempo += 1\n",
    "        self.datacollector.collect(self)\n",
    "        if self.tiempo in self.paso1:\n",
    "            self.porcentajes_limpio.append(self.calcula_porcentaje_limpio())\n",
    "        if self.tiempo in self.paso2:\n",
    "            self.porcentajes_limpio.append(self.calcula_porcentaje_limpio())\n",
    "        if self.tiempo in self.paso3:\n",
    "            self.porcentajes_limpio.append(self.calcula_porcentaje_limpio())\n",
    "        if self.tiempo >= self.max_tiempo:\n",
    "            self.running = False\n",
    "    \n",
    "    \n",
    "    def calcula_porcentaje_limpio(self):\n",
    "        limpio = 0\n",
    "        for y in range(self.grid.height):\n",
    "            for x in range(self.grid.width):\n",
    "                if self.grid.is_cell_empty((x, y)):\n",
    "                    limpio += 1\n",
    "        return ((limpio/(self.grid.width*self.grid.height)) * 100)"
   ]
  },
  {
   "cell_type": "code",
   "execution_count": 211,
   "metadata": {},
   "outputs": [],
   "source": [
    "def graficarPruebas(model):\n",
    "    for y in range(model.grid.height):\n",
    "        for x in range(model.grid.width):\n",
    "            if model.grid.is_cell_empty((x, y)):\n",
    "                plt.scatter(x, y, color='green') # Limpio\n",
    "            else:\n",
    "                cell_content = model.grid.get_cell_list_contents([(x, y)])\n",
    "                if len(cell_content) > 0:\n",
    "                    plt.scatter(x, y, color='blue') # Aspiradora\n",
    "                else:\n",
    "                    plt.scatter(x, y, color='red') # Sucio"
   ]
  },
  {
   "cell_type": "code",
   "execution_count": 212,
   "metadata": {},
   "outputs": [
    {
     "data": {
      "image/png": "[encoded data removed]",
      "text/plain": [
       "<Figure size 640x480 with 1 Axes>"
      ]
     },
     "metadata": {},
     "output_type": "display_data"
    },
    {
     "name": "stdout",
     "output_type": "stream",
     "text": [
      "99.0% celdas limpias en paso [500] con 1 aspiradoras en 100 tiempo respectivamente.\n",
      "99.0% celdas limpias en paso [1000] con 1 aspiradoras en 100 tiempo respectivamente.\n",
      "99.0% celdas limpias en paso [1500] con 1 aspiradoras en 100 tiempo respectivamente.\n"
     ]
    },
    {
     "data": {
      "image/png": "[encoded data removed]",
      "text/plain": [
       "<Figure size 640x480 with 1 Axes>"
      ]
     },
     "metadata": {},
     "output_type": "display_data"
    },
    {
     "name": "stdout",
     "output_type": "stream",
     "text": [
      "95.0% celdas limpias en paso [500] con 5 aspiradoras en 100 tiempo respectivamente.\n",
      "95.0% celdas limpias en paso [1000] con 5 aspiradoras en 100 tiempo respectivamente.\n",
      "95.0% celdas limpias en paso [1500] con 5 aspiradoras en 100 tiempo respectivamente.\n"
     ]
    },
    {
     "data": {
      "image/png": "[encoded data removed]",
      "text/plain": [
       "<Figure size 640x480 with 1 Axes>"
      ]
     },
     "metadata": {},
     "output_type": "display_data"
    },
    {
     "name": "stdout",
     "output_type": "stream",
     "text": [
      "90.0% celdas limpias en paso [500] con 10 aspiradoras en 100 tiempo respectivamente.\n",
      "90.0% celdas limpias en paso [1000] con 10 aspiradoras en 100 tiempo respectivamente.\n",
      "90.0% celdas limpias en paso [1500] con 10 aspiradoras en 100 tiempo respectivamente.\n"
     ]
    }
   ],
   "source": [
    "def pruebas(X, Y, num_agents, porc_celdas_sucias, max_tiempo, paso1, paso2, paso3):\n",
    "    model = OficinaModel(X, Y, num_agents, porc_celdas_sucias,  max_tiempo, paso1, paso2, paso3)\n",
    "    while model.running:\n",
    "        model.step()\n",
    "    \n",
    "    graficarPruebas(model)\n",
    "    plt.show()\n",
    "    \n",
    "    print(f\"{model.calcula_porcentaje_limpio()}% celdas limpias en paso {paso1} con {num_agents} aspiradoras en {max_tiempo} tiempo respectivamente.\")\n",
    "    \n",
    "    print(f\"{model.calcula_porcentaje_limpio()}% celdas limpias en paso {paso2} con {num_agents} aspiradoras en {max_tiempo} tiempo respectivamente.\")\n",
    "    \n",
    "    print(f\"{model.calcula_porcentaje_limpio()}% celdas limpias en paso {paso3} con {num_agents} aspiradoras en {max_tiempo} tiempo respectivamente.\")\n",
    "    \n",
    "# Pruebas\n",
    "paso1 = [500]\n",
    "paso2 = [1000]\n",
    "paso3 = [1500]\n",
    "# x = 10, y = 10, num_agents = (1,5,10), max_tiempo = 100, porc_celdas_sucias = 0.8, revisa_pasos = [500, 1000, 1500]\n",
    "pruebas(10, 10, 1, 0.8 , 100, paso1, paso2, paso3)\n",
    "pruebas(10, 10, 5, 0.8 , 100, paso1, paso2, paso3)\n",
    "pruebas(10, 10, 10, 0.8 , 100, paso1, paso2, paso3)   "
   ]
  }
 ],
 "metadata": {
  "kernelspec": {
   "display_name": "Python 3",
   "language": "python",
   "name": "python3"
  },
  "language_info": {
   "codemirror_mode": {
    "name": "ipython",
    "version": 3
   },
   "file_extension": ".py",
   "mimetype": "text/x-python",
   "name": "python",
   "nbconvert_exporter": "python",
   "pygments_lexer": "ipython3",
   "version": "3.12.3"
  }
 },
 "nbformat": 4,
 "nbformat_minor": 2
}
