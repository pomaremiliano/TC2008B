{
 "cells": [
  {
   "cell_type": "markdown",
   "metadata": {},
   "source": [
    "# Actividad 1 \n",
    "## - Jorge Emiliano Pomar A01709338"
   ]
  },
  {
   "cell_type": "code",
   "execution_count": 267,
   "metadata": {},
   "outputs": [],
   "source": [
    "from mesa import Agent, Model\n",
    "from mesa.time import RandomActivation\n",
    "from mesa.space import MultiGrid\n",
    "from mesa.datacollection import DataCollector\n",
    "import random\n",
    "\n",
    "%matplotlib inline\n",
    "import matplotlib\n",
    "import matplotlib.pyplot as plt\n",
    "\n",
    "import numpy as np\n"
   ]
  },
  {
   "cell_type": "code",
   "execution_count": 268,
   "metadata": {},
   "outputs": [],
   "source": [
    "# Definir el agente aspiradora que se moverá por el grid\n",
    "class Aspiradoras(Agent):\n",
    "    def __init__(self, unique_id, model):\n",
    "        super().__init__(unique_id, model)\n",
    "        \n",
    "    # Metodo que cuenta la cantidad de celdas sucias en el vecindario y posiciona la aspiradora en una celda sucia\n",
    "    def step(self):\n",
    "        x, y = self.pos\n",
    "        if self.model.grid.is_cell_empty((x, y)):\n",
    "            self.model.grid.place_agent(None, (x, y), 0)\n",
    "        else:\n",
    "            pasos_posibles = self.model.grid.get_neighborhood(self.pos, moore=True, include_center=False)\n",
    "            # Seleccionar una celda random en donde se encuentre suciedad para mover la aspiradora\n",
    "            nueva_posicion = random.choice(pasos_posibles)\n",
    "            self.model.grid.move_agent(self, nueva_posicion)"
   ]
  },
  {
   "cell_type": "code",
   "execution_count": 269,
   "metadata": {},
   "outputs": [],
   "source": [
    "# Extraer todas las posiciones de las aspiradoras y las regresa en un arreglo de numpy\n",
    "def get_particles(model):\n",
    "    result = []\n",
    "    for agent in model.schedule.agents:\n",
    "        result.append(agent.pos)\n",
    "    return np.asarray(result)"
   ]
  },
  {
   "cell_type": "code",
   "execution_count": 270,
   "metadata": {},
   "outputs": [],
   "source": [
    "# Definir el modelo de la oficina que tiene las aspiradoras\n",
    "class OficinaModel(Model):\n",
    "    # Inicializar el modelo con el tamaño del grid, el número de aspiradoras, el porcentaje de celdas sucias, el tiempo máximo y los pasos en los que se calculará el porcentaje de limpieza\n",
    "    def __init__(self, X, Y, num_agents, porc_celdas_sucias, max_tiempo, paso1, paso2, paso3):\n",
    "        super().__init__()\n",
    "        self.num_agents = num_agents \n",
    "        self.grid = MultiGrid(X, Y, False)\n",
    "        self.schedule = RandomActivation(self)\n",
    "        self.running = True\n",
    "        self.max_tiempo = max_tiempo\n",
    "        self.tiempo = 0\n",
    "        self.paso1 = paso1\n",
    "        self.paso2 = paso2\n",
    "        self.paso3 = paso3\n",
    "        self.porcentajes_limpio = []\n",
    "        self.datacollector = DataCollector(\n",
    "            model_reporters={\"Particles\":get_particles}\n",
    "        )\n",
    "        \n",
    "        # Aqui se itera sobre el grid y se usa random para colocar agentes \n",
    "        for i in range(num_agents):\n",
    "            a = Aspiradoras(i, self)\n",
    "            x = random.randrange(self.grid.width)\n",
    "            y = random.randrange(self.grid.height)\n",
    "            self.schedule.add(a)\n",
    "            self.grid.place_agent(a, (x, y))\n",
    "    \n",
    "    # Aqui se define un metodo de pasos, y cada paso se recorre el schedule y se llama al metodo step de cada agente, ademas se incrementa el tiempo y se recolectan los datos de porcentaje de limpio en cada paso \n",
    "    def step(self):\n",
    "        self.schedule.step()\n",
    "        self.tiempo += 1\n",
    "        self.datacollector.collect(self)\n",
    "        if self.tiempo in self.paso1:\n",
    "            self.porcentajes_limpio.append(self.calcula_porcentaje_limpio())\n",
    "        if self.tiempo in self.paso2:\n",
    "            self.porcentajes_limpio.append(self.calcula_porcentaje_limpio())\n",
    "        if self.tiempo in self.paso3:\n",
    "            self.porcentajes_limpio.append(self.calcula_porcentaje_limpio())\n",
    "        if self.tiempo >= self.max_tiempo:\n",
    "            self.running = False\n",
    "    \n",
    "    # Metodo que calcula el porcentaje de celdas limpias en el grid y regresa el porcentaje de celdas limpias en el paso \n",
    "    def calcula_porcentaje_limpio(self):\n",
    "        limpio = 0\n",
    "        for y in range(self.grid.height):\n",
    "            for x in range(self.grid.width):\n",
    "                if self.grid.is_cell_empty((x, y)):\n",
    "                    limpio += 1\n",
    "        return ((limpio/(self.grid.width*self.grid.height)) * 100)"
   ]
  },
  {
   "cell_type": "code",
   "execution_count": 271,
   "metadata": {},
   "outputs": [],
   "source": [
    "# Aqui se grafica la oficina con los agentes y las celdas sucias\n",
    "def graficarPruebas(model):\n",
    "    for y in range(model.grid.height):\n",
    "        for x in range(model.grid.width):\n",
    "            if model.grid.is_cell_empty((x, y)):\n",
    "                # Si la celda esta vacia se pone un punto verde de limpio\n",
    "                plt.scatter(x, y, color='green') \n",
    "            else:\n",
    "                # Si la celda no esta vacia se pone un punto azul de que ahi hay una aspiradora\n",
    "                cell_content = model.grid.get_cell_list_contents([(x, y)])\n",
    "                if len(cell_content) > 0:\n",
    "                    plt.scatter(x, y, color='blue') # Aspiradora\n",
    "                else:\n",
    "                    # Si la celda no esta vacia y no hay aspiradora se pone un punto rojo de que esta sucio\n",
    "                    plt.scatter(x, y, color='red') # Sucio"
   ]
  },
  {
   "cell_type": "code",
   "execution_count": 272,
   "metadata": {},
   "outputs": [
    {
     "data": {
      "image/png": "[encoded data removed]",
      "text/plain": [
       "<Figure size 640x480 with 1 Axes>"
      ]
     },
     "metadata": {},
     "output_type": "display_data"
    },
    {
     "name": "stdout",
     "output_type": "stream",
     "text": [
      "99.0% celdas limpias en paso [500] con 1 aspiradoras en 100 tiempo respectivamente.\n",
      "99.0% celdas limpias en paso [1000] con 1 aspiradoras en 100 tiempo respectivamente.\n",
      "99.0% celdas limpias en paso [1500] con 1 aspiradoras en 100 tiempo respectivamente.\n"
     ]
    },
    {
     "data": {
      "image/png": "[encoded data removed]",
      "text/plain": [
       "<Figure size 640x480 with 1 Axes>"
      ]
     },
     "metadata": {},
     "output_type": "display_data"
    },
    {
     "name": "stdout",
     "output_type": "stream",
     "text": [
      "95.0% celdas limpias en paso [500] con 5 aspiradoras en 100 tiempo respectivamente.\n",
      "95.0% celdas limpias en paso [1000] con 5 aspiradoras en 100 tiempo respectivamente.\n",
      "95.0% celdas limpias en paso [1500] con 5 aspiradoras en 100 tiempo respectivamente.\n"
     ]
    },
    {
     "data": {
      "image/png": "[encoded data removed]",
      "text/plain": [
       "<Figure size 640x480 with 1 Axes>"
      ]
     },
     "metadata": {},
     "output_type": "display_data"
    },
    {
     "name": "stdout",
     "output_type": "stream",
     "text": [
      "90.0% celdas limpias en paso [500] con 10 aspiradoras en 100 tiempo respectivamente.\n",
      "90.0% celdas limpias en paso [1000] con 10 aspiradoras en 100 tiempo respectivamente.\n",
      "90.0% celdas limpias en paso [1500] con 10 aspiradoras en 100 tiempo respectivamente.\n"
     ]
    }
   ],
   "source": [
    "# En este metodo se reciben los parametros del modelo y se corre el modelo para los pasos dados, al final se imprime el porcentaje de celdas limpias en cada paso y la simulacion \n",
    "def pruebas(X, Y, num_agents, porc_celdas_sucias, max_tiempo, paso1, paso2, paso3):\n",
    "    model = OficinaModel(X, Y, num_agents, porc_celdas_sucias,  max_tiempo, paso1, paso2, paso3)\n",
    "    for i in range (max_tiempo):\n",
    "        model.step()\n",
    "    \n",
    "    graficarPruebas(model)\n",
    "    plt.show()\n",
    "    \n",
    "    print(f\"{model.calcula_porcentaje_limpio()}% celdas limpias en paso {paso1} con {num_agents} aspiradoras en {max_tiempo} tiempo respectivamente.\")\n",
    "    \n",
    "    print(f\"{model.calcula_porcentaje_limpio()}% celdas limpias en paso {paso2} con {num_agents} aspiradoras en {max_tiempo} tiempo respectivamente.\")\n",
    "    \n",
    "    print(f\"{model.calcula_porcentaje_limpio()}% celdas limpias en paso {paso3} con {num_agents} aspiradoras en {max_tiempo} tiempo respectivamente.\")\n",
    "    \n",
    "# Pasos en los que se calculará el porcentaje de limpieza\n",
    "paso1 = [500]\n",
    "paso2 = [1000]\n",
    "paso3 = [1500]\n",
    "\n",
    "# Se corren las pruebas con los parametros dados con los siguientes valores\n",
    "# x = 10, y = 10, num_agents = (1,5,10), max_tiempo = 100, porc_celdas_sucias = 0.8, pasos = [500, 1000, 1500]\n",
    "pruebas(10, 10, 1, 0.8 , 100, paso1, paso2, paso3)\n",
    "pruebas(10, 10, 5, 0.8 , 100, paso1, paso2, paso3)\n",
    "pruebas(10, 10, 10, 0.8 , 100, paso1, paso2, paso3)   "
   ]
  }
 ],
 "metadata": {
  "kernelspec": {
   "display_name": "Python 3",
   "language": "python",
   "name": "python3"
  },
  "language_info": {
   "codemirror_mode": {
    "name": "ipython",
    "version": 3
   },
   "file_extension": ".py",
   "mimetype": "text/x-python",
   "name": "python",
   "nbconvert_exporter": "python",
   "pygments_lexer": "ipython3",
   "version": "3.12.3"
  }
 },
 "nbformat": 4,
 "nbformat_minor": 2
}
