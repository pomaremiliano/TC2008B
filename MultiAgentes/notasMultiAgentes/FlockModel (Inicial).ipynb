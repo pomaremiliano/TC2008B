{
 "cells": [
  {
   "cell_type": "markdown",
   "id": "675c2372",
   "metadata": {},
   "source": [
    "# BirdFlock\n",
    "\n",
    "Este ejemplo pretende simular el comportamiento de una bandada de pájaros: cientos, o incluso miles, de pájaros volando juntos, formando formas infinitas como si fueran una sola entidad. Para el desarrollo de este ejemplo, nos basaremos en el trabajo presentado por [Rohola Zandie](https://betterprogramming.pub/boids-simulating-birds-flock-behavior-in-python-9fff99375118).\n"
   ]
  },
  {
   "cell_type": "markdown",
   "id": "3892e3f7",
   "metadata": {},
   "source": [
    "## ¿Cómo funciona el modelo?\n",
    "\n",
    "Una propuesta de solución a este problema fue presentado por Craig Reynolds cuando introdujo un sistema conocido como \"Boids\" que podía simular algo similar al comportamiento de bandadas de aves. Su modelo estable tres reglas simples:\n",
    "\n",
    "- **Separación**: La separación es necesaria para que nuestros individuos choquen entre sí y se estrellen. Cada individuos debe ver a sus propios compañeros de bandada locales y alejarse si están demasiado cerca.\n",
    "<center>\n",
    "<img src=\"https://miro.medium.com/max/217/1*vcc16ijg_e8lMOTRIhhm9w.gif\" />\n",
    "</center>\n",
    "- **Alineación**: Cada invidividuo solo ve a los individuos que están a su alrededor. Para la alineación, miramos los vecinos y calculamos su dirección promedio (que es parte del vector de velocidad) y seguimos eso.\n",
    "<center>\n",
    "<img src=\"https://miro.medium.com/max/217/1*e8AAGeLm9x0i6kkO4_Yenw.gif\" />\n",
    "</center>\n",
    "- **Cohesión**: Significa dirigirse hacia el centro de masa de los compañeros de bandada locales. Hacemos esto para forzar a que los individuos se peguen entre sí y no se dividan.\n",
    "<center>\n",
    "<img src=\"https://miro.medium.com/max/217/1*Au6eWj6jETcbVAbQWJR1-g.gif\" />\n",
    "</center>\n"
   ]
  },
  {
   "cell_type": "markdown",
   "id": "66f86ef7",
   "metadata": {},
   "source": [
    "A diferencia de otros ejemplos, no queremos realizar una animación basada en una matriz sino en objetos que se mueven libremente en un espacio bidimencional.\n"
   ]
  },
  {
   "cell_type": "markdown",
   "id": "d4c5db9b",
   "metadata": {},
   "source": [
    "## Imports\n"
   ]
  },
  {
   "cell_type": "code",
   "execution_count": 109,
   "id": "41bf92fe",
   "metadata": {},
   "outputs": [],
   "source": [
    "# Importamos las clases que se requieren para manejar los agentes (Agent) y su entorno (Model).\n",
    "# Cada modelo puede contener múltiples agentes.\n",
    "from mesa import Agent, Model \n",
    "\n",
    "# Con ''SimultaneousActivation, hacemos que todos los agentes se activen ''al azar''.\n",
    "from mesa.time import RandomActivation\n",
    "from mesa.space import ContinuousSpace \n",
    "\n",
    "# Haremos uso de ''DataCollector'' para obtener información de cada paso de la simulación.\n",
    "from mesa.datacollection import DataCollector\n",
    "\n",
    "# matplotlib lo usaremos crear una animación de cada uno de los pasos del modelo.\n",
    "%matplotlib inline\n",
    "import matplotlib\n",
    "import matplotlib.pyplot as plt\n",
    "import matplotlib.animation as animation\n",
    "plt.rcParams[\"animation.html\"] = \"jshtml\"\n",
    "matplotlib.rcParams['animation.embed_limit'] = 2**128\n",
    "\n",
    "# Importamos los siguientes paquetes para el mejor manejo de valores numéricos.\n",
    "import numpy as np\n",
    "import pandas as pd\n",
    "\n",
    "# Definimos otros paquetes que vamos a usar para medir el tiempo de ejecución de nuestro algoritmo.\n",
    "import time\n",
    "import datetime"
   ]
  },
  {
   "cell_type": "code",
   "execution_count": 110,
   "id": "eadd11db",
   "metadata": {},
   "outputs": [],
   "source": [
    "class FlockAgent(Agent):\n",
    "    def __init__(self, id, model, x, y):\n",
    "        super().__init__(id, model)\n",
    "\n",
    "        self.position = np.array((x, y), dtype=np.float64)\n",
    "\n",
    "        vec = (np.random.rand(2) - 0.5) * 10\n",
    "        self.velocity = np.array(vec, dtype=np.float64)\n",
    "\n",
    "        vec = (np.random.rand(2) - 0.5) / 2\n",
    "        self.acceleration = np.array(vec, dtype=np.float64)\n",
    "\n",
    "        self.max_force = 0.3\n",
    "\n",
    "        self.max_speed = 5\n",
    "\n",
    "        self.perception = 50\n",
    "\n",
    "        self.neighbors = None\n",
    "\n",
    "    \n",
    "    def step(self):\n",
    "        self.check_edges()\n",
    "\n",
    "        self.check_with_neighbors()\n",
    "\n",
    "        self.position += self.velocity\n",
    "        self.velocity += self.acceleration\n",
    "\n",
    "        if np.linalg.norm(self.velocity) > self.max_speed:\n",
    "            self.velocity = self.velocity / (np.linalg.norm(self.velocity) * self.max_speed)\n",
    "\n",
    "        self.acceleration = np.array([0, 0], dtype=np.float64)\n",
    "\n",
    "        self.model.grid.move_agent(self, self.position)\n",
    "\n",
    "    def check_edges(self):\n",
    "        if self.position[0] > self.model.grid.x_max:\n",
    "            self.position[0] = self.model.grid.x_min\n",
    "        elif self.position[0] < self.model.grid.x_min:\n",
    "            self.position[0] = self.model.grid.x_max\n",
    "\n",
    "        if self.position[1] > self.model.grid.y_max:\n",
    "            self.position[1] = self.model.grid.y_min\n",
    "        elif self.position[1] < self.model.grid.y_min:\n",
    "            self.position[1] = self.model.grid.y_max\n",
    "\n",
    "    def check_with_neighbors(self):\n",
    "        self.neighbors = self.model.grid.get_neighbors(self.position, radius=self.perception, include_center=False)\n",
    "        \n",
    "        aligment = self.align()\n",
    "        cohesion = self.cohesion()\n",
    "        separation = self.separation()\n",
    "\n",
    "        self.acceleration += (aligment + cohesion + separation)\n",
    "\n",
    "    def align(self):\n",
    "        total = 0\n",
    "        steering = np.array([0, 0], dtype=np.float64)\n",
    "        avg_vector = np.array([0, 0], dtype=np.float64)\n",
    "\n",
    "        for agent in self.neighbors:\n",
    "            avg_vector += agent.velocity\n",
    "            total += 1\n",
    "\n",
    "        if total > 0:\n",
    "            avg_vector /= total\n",
    "            avg_vector = avg_vector / (np.linalg.norm(avg_vector) * self.max_speed)\n",
    "            steering = avg_vector - self.velocity\n",
    "\n",
    "        return steering\n",
    "\n",
    "    def cohesion(self):\n",
    "        total = 0 \n",
    "        steering = np.array([0, 0], dtype=np.float64)\n",
    "        center_of_mass = np.array([0, 0], dtype=np.float64)\n",
    "\n",
    "        for agent in self.neighbors:\n",
    "            center_of_mass += agent.position\n",
    "            total += 1\n",
    "\n",
    "        if total > 0:\n",
    "            center_of_mass / total\n",
    "            vec_to_com = center_of_mass - self.position\n",
    "            if np.linalg.norm(vec_to_com) > 0:\n",
    "                vec_to_com = vec_to_com / (np.linalg.norm(vec_to_com) * self.max_speed)\n",
    "\n",
    "            steering = vec_to_com - self.velocity\n",
    "            if np.linalg.norm(steering) > self.max_force:\n",
    "                steering = steering / (np.linalg.norm(steering) * self.max_force)\n",
    "\n",
    "        return steering\n",
    "    \n",
    "    def separation(self):\n",
    "        total = 0\n",
    "        steering = np.array([0, 0], dtype=np.float64)\n",
    "        avg_vector = np.array([0, 0], dtype=np.float64)\n",
    "\n",
    "        for agent in self.neighbors:\n",
    "            if not(np.array_equal(self.position, agent.position)):\n",
    "                diff = (self.position - agent.position) / np.linalg.norm(self.position - agent.position)\n",
    "                avg_vector += diff\n",
    "                total += 1\n",
    "\n",
    "        if total > 0:\n",
    "            avg_vector /= total\n",
    "            if np.linalg.norm(avg_vector) > 0:\n",
    "                avg_vector = avg_vector / (np.linalg.norm(avg_vector) * self.max_speed)\n",
    "\n",
    "            steering = avg_vector - self.velocity\n",
    "            if np.linalg.norm(steering) > self.max_force:\n",
    "                steering = steering / (np.linalg.norm(steering) * self.max_force)\n",
    "                \n",
    "        return steering"
   ]
  },
  {
   "cell_type": "code",
   "execution_count": 111,
   "id": "5ce507c7",
   "metadata": {},
   "outputs": [],
   "source": [
    "def get_particles(model):\n",
    "    result = []\n",
    "    for agent in model.schedule.agents:\n",
    "        result.append(agent.position)\n",
    "    return np.asarray(result)"
   ]
  },
  {
   "cell_type": "code",
   "execution_count": 112,
   "id": "8cf3acf3",
   "metadata": {},
   "outputs": [],
   "source": [
    "class FlockModel(Model):\n",
    "    def __init__(self, num_agents, x_max, y_max):\n",
    "        super().__init__()\n",
    "        self.schedule = RandomActivation(self)\n",
    "        self.grid = ContinuousSpace(x_max, y_max, torus=True)\n",
    "        self.datacollector = DataCollector(model_reporters={\"Particles\":get_particles})\n",
    "\n",
    "        for i in range(num_agents):\n",
    "            x = np.random.rand() * x_max\n",
    "            y = np.random.rand() * y_max\n",
    "            agent = FlockAgent(i, self, x, y)\n",
    "            self.schedule.add(agent)\n",
    "            self.grid.place_agent(agent, (x, y))\n",
    "\n",
    "    def step(self):\n",
    "        self.datacollector.collect(self)\n",
    "        self.schedule.step()"
   ]
  },
  {
   "cell_type": "code",
   "execution_count": 113,
   "id": "a497ad29",
   "metadata": {},
   "outputs": [
    {
     "name": "stderr",
     "output_type": "stream",
     "text": [
      "C:\\Users\\pomar\\AppData\\Local\\Temp\\ipykernel_27724\\1919088439.py:68: RuntimeWarning: invalid value encountered in divide\n",
      "  avg_vector = avg_vector / (np.linalg.norm(avg_vector) * self.max_speed)\n"
     ]
    }
   ],
   "source": [
    "XMAX = 1000\n",
    "YMAX = 1000\n",
    "NUM_AGENTS = 200\n",
    "ITERATIONS = 2000\n",
    "\n",
    "model = FlockModel(NUM_AGENTS, XMAX, YMAX)\n",
    "for i in range(ITERATIONS): \n",
    "    model.step()\n",
    "    "
   ]
  },
  {
   "cell_type": "code",
   "execution_count": 114,
   "id": "16014fdf",
   "metadata": {},
   "outputs": [],
   "source": [
    "all_positions = model.datacollector.get_model_vars_dataframe()"
   ]
  },
  {
   "cell_type": "code",
   "execution_count": 115,
   "id": "2b276609",
   "metadata": {},
   "outputs": [
    {
     "name": "stderr",
     "output_type": "stream",
     "text": [
      "C:\\Users\\pomar\\AppData\\Local\\Temp\\ipykernel_27724\\354525978.py:2: FutureWarning: Series.__getitem__ treating keys as positions is deprecated. In a future version, integer keys will always be treated as labels (consistent with DataFrame behavior). To access a value by position, use `ser.iloc[pos]`\n",
      "  scatter = ax.scatter(all_positions.iloc[0][0][:, 0], all_positions.iloc[0][0][:, 1], s=10, edgecolor= \"k\")\n",
      "C:\\Users\\pomar\\AppData\\Local\\Temp\\ipykernel_27724\\354525978.py:7: FutureWarning: Series.__getitem__ treating keys as positions is deprecated. In a future version, integer keys will always be treated as labels (consistent with DataFrame behavior). To access a value by position, use `ser.iloc[pos]`\n",
      "  scatter.set_offsets(all_positions.iloc[i][0])\n"
     ]
    },
    {
     "data": {
      "image/png": "[encoded data removed]",
      "text/plain": [
       "<Figure size 300x300 with 1 Axes>"
      ]
     },
     "metadata": {},
     "output_type": "display_data"
    }
   ],
   "source": [
    "fig, ax = plt.subplots(figsize=(3, 3))\n",
    "scatter = ax.scatter(all_positions.iloc[0][0][:, 0], all_positions.iloc[0][0][:, 1], s=10, edgecolor= \"k\")\n",
    "\n",
    "ax.axis([0, XMAX, 0, YMAX]) # cuadrante de 0 a x max y de 0 a y max\n",
    "\n",
    "def animate(i):\n",
    "    scatter.set_offsets(all_positions.iloc[i][0])\n",
    "    return scatter\n",
    "\n",
    "anim=animation.FuncAnimation(fig, animate, frames=ITERATIONS)  "
   ]
  }
 ],
 "metadata": {
  "kernelspec": {
   "display_name": "Python 3 (ipykernel)",
   "language": "python",
   "name": "python3"
  },
  "language_info": {
   "codemirror_mode": {
    "name": "ipython",
    "version": 3
   },
   "file_extension": ".py",
   "mimetype": "text/x-python",
   "name": "python",
   "nbconvert_exporter": "python",
   "pygments_lexer": "ipython3",
   "version": "3.12.3"
  }
 },
 "nbformat": 4,
 "nbformat_minor": 5
}
